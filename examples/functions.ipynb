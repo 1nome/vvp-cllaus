{
 "cells": [
  {
   "cell_type": "markdown",
   "id": "0587f276",
   "metadata": {},
   "source": [
    "# cllaus\n",
    "\n",
    "A python module for visualising cellular automata."
   ]
  },
  {
   "cell_type": "code",
   "execution_count": 1,
   "id": "827eec42",
   "metadata": {},
   "outputs": [],
   "source": [
    "import cllaus"
   ]
  },
  {
   "cell_type": "markdown",
   "id": "2fe3f09f",
   "metadata": {},
   "source": [
    "## tl;dr:\n",
    "\n",
    "To start visualising, call `cllaus.display()`. Before you do though, you also need to call `cllaus.rule` to set a running CA, else nothing will happen; it requires an object of type `CA`\n",
    "\n",
    "For controls, see the docs."
   ]
  },
  {
   "cell_type": "code",
   "execution_count": 2,
   "id": "304edafe",
   "metadata": {},
   "outputs": [],
   "source": [
    "cllaus.rule(cllaus.ca.ConwayNaive())"
   ]
  },
  {
   "cell_type": "markdown",
   "id": "249b800c",
   "metadata": {},
   "source": [
    "Settings and states are persistent. Call `cllaus.reset()` to set them to their defaults."
   ]
  },
  {
   "cell_type": "code",
   "execution_count": 3,
   "id": "bdd691be",
   "metadata": {},
   "outputs": [
    {
     "name": "stdout",
     "output_type": "stream",
     "text": [
      "pygame 2.6.1 (SDL 2.28.4, Python 3.13.3)\n",
      "Hello from the pygame community. https://www.pygame.org/contribute.html\n"
     ]
    }
   ],
   "source": [
    "cllaus.display()\n",
    "cllaus.clear()"
   ]
  },
  {
   "cell_type": "markdown",
   "id": "82454b0d",
   "metadata": {},
   "source": [
    "`cllaus.clear()` only sets the generation counter and universe to zeros."
   ]
  },
  {
   "cell_type": "markdown",
   "id": "e370df3c",
   "metadata": {},
   "source": [
    "## Visual settings\n",
    "\n",
    "These change colors or shows extra visuals."
   ]
  },
  {
   "cell_type": "code",
   "execution_count": 4,
   "id": "294a1d87",
   "metadata": {},
   "outputs": [],
   "source": [
    "cllaus.bg_color((60, 60, 60))\n",
    "cllaus.border_color((0, 128, 0))\n",
    "cllaus.crosshair_show()\n",
    "cllaus.cursor_color((0, 0, 250))\n",
    "cllaus.grid_color((0, 0, 0))\n",
    "cllaus.grid_show()\n",
    "cllaus.text_color(\"black\")"
   ]
  },
  {
   "cell_type": "markdown",
   "id": "1321eb54",
   "metadata": {},
   "source": [
    "## Initial setting\n",
    "\n",
    "These can be later changed in-visualiser.\n"
   ]
  },
  {
   "cell_type": "code",
   "execution_count": 5,
   "id": "7a3bc623",
   "metadata": {},
   "outputs": [],
   "source": [
    "cllaus.window_dims((1920, 1080)) # the window is resizable\n",
    "cllaus.cell_size(10)\n",
    "cllaus.ups(10)\n",
    "cllaus.pause()"
   ]
  },
  {
   "cell_type": "markdown",
   "id": "b6f9945c",
   "metadata": {},
   "source": [
    "## Extra stats"
   ]
  },
  {
   "cell_type": "code",
   "execution_count": 6,
   "id": "c2f33b45",
   "metadata": {},
   "outputs": [],
   "source": [
    "cllaus.fps_show()\n",
    "cllaus.ups_show()"
   ]
  },
  {
   "cell_type": "markdown",
   "id": "eac8fcb2",
   "metadata": {},
   "source": [
    "## Other settings\n",
    "\n",
    "Can't be changed in-visualiser."
   ]
  },
  {
   "cell_type": "code",
   "execution_count": 7,
   "id": "604b96f2",
   "metadata": {},
   "outputs": [],
   "source": [
    "cllaus.universe_dims((300, 200))\n",
    "cllaus.fps(30) # max fps"
   ]
  },
  {
   "cell_type": "markdown",
   "id": "a5ac7d78",
   "metadata": {},
   "source": [
    "## Inserting values (non-persistent)"
   ]
  },
  {
   "cell_type": "code",
   "execution_count": 8,
   "id": "f14279b3",
   "metadata": {},
   "outputs": [],
   "source": [
    "import numpy\n",
    "cllaus.paste_from(\"constructs/oscthing\", 50, 30)\n",
    "cllaus.paste_vals(numpy.array([[0, 1, 0], [0, 0, 1], [1, 1, 1]]), 10, 50)\n",
    "cllaus.display()"
   ]
  },
  {
   "cell_type": "markdown",
   "id": "3b126a3d",
   "metadata": {},
   "source": [
    "## Simulating n generations out-of visualiser"
   ]
  },
  {
   "cell_type": "code",
   "execution_count": 9,
   "id": "9403026a",
   "metadata": {},
   "outputs": [
    {
     "name": "stdout",
     "output_type": "stream",
     "text": [
      "simulating...\n",
      "done\n"
     ]
    }
   ],
   "source": [
    "cllaus.reset()\n",
    "cllaus.window_dims((1920, 1080))\n",
    "cllaus.rule(cllaus.LangtonsAnt())\n",
    "cllaus.cell_size(10)\n",
    "cllaus.universe_dims((200, 200))\n",
    "cllaus.fps(180)\n",
    "cllaus.ups(100)\n",
    "cllaus.ups_show()\n",
    "cllaus.paste_vals(numpy.array([[8]], dtype=numpy.int8), 30, 50)\n",
    "cllaus.bg_color((20, 20, 20))\n",
    "\n",
    "cllaus.simulate(11000)\n",
    "\n",
    "cllaus.display()"
   ]
  },
  {
   "cell_type": "markdown",
   "id": "6473ed63",
   "metadata": {},
   "source": [
    "## Saving and loading universes.\n",
    "\n",
    "Loading saves from different CAs may break."
   ]
  },
  {
   "cell_type": "code",
   "execution_count": 10,
   "id": "77c24c0e",
   "metadata": {},
   "outputs": [],
   "source": [
    "cllaus.save_universe(\"langton\")\n",
    "cllaus.clear()\n",
    "cllaus.load_universe(\"langton\")\n",
    "cllaus.display()"
   ]
  }
 ],
 "metadata": {
  "kernelspec": {
   "display_name": ".venv",
   "language": "python",
   "name": "python3"
  },
  "language_info": {
   "codemirror_mode": {
    "name": "ipython",
    "version": 3
   },
   "file_extension": ".py",
   "mimetype": "text/x-python",
   "name": "python",
   "nbconvert_exporter": "python",
   "pygments_lexer": "ipython3",
   "version": "3.13.3"
  }
 },
 "nbformat": 4,
 "nbformat_minor": 5
}
