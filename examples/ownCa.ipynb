{
 "cells": [
  {
   "cell_type": "code",
   "execution_count": 1,
   "id": "9f291bad",
   "metadata": {},
   "outputs": [],
   "source": [
    "import cllaus"
   ]
  },
  {
   "cell_type": "markdown",
   "id": "83a226e4",
   "metadata": {},
   "source": [
    "## Creating your own CAs\n",
    "\n",
    "Create a class derived from `cllaus.CA`.\n",
    "\n",
    "`__init__` needs to initialize:\n",
    " - `name` - self-explanatory\n",
    " - `next_vals` - array of vals to be toggled thru in the visualiser - the value after 10 will be on index 10; could be not an NDArray (ie. for large value sets) but has to have an [] operator and be numpy vectorizable\n",
    " - `colors` - colors corresponding to values the universe can reach - cells will be colored based on it; again has to have the [] operator, doesn't need to be vectorizable\n",
    " - `dtype` - data type of the universe to be passed to it (ca will call numpy.astype() on the current universe)\n",
    "\n",
    " `__call__` will step the CA, takes a NDArray as a parameter"
   ]
  },
  {
   "cell_type": "code",
   "execution_count": 5,
   "id": "b8c81bd2",
   "metadata": {},
   "outputs": [],
   "source": [
    "import numpy as np\n",
    "from numpy.typing import NDArray\n",
    "\n",
    "# see https://en.wikipedia.org/wiki/Brian%27s_Brain\n",
    "class BriansBrain(cllaus.CA):\n",
    "    def __init__(self):\n",
    "        self.name = \"Brian's brain\"\n",
    "        self.next_vals = np.array([1, 2, 0], dtype=np.int8)\n",
    "        self.colors = {2: \"white\", 1: \"blue\"}\n",
    "        self.n_neighbours = np.zeros((100, 100), dtype=np.int8)\n",
    "        self.dtype = np.int8\n",
    "    \n",
    "    def __call__(self, universe: NDArray[np.int8]):\n",
    "        if self.n_neighbours.shape != universe.shape:\n",
    "            self.n_neighbours.resize(universe.shape)\n",
    "        self.n_neighbours.fill(0)\n",
    "\n",
    "        # counting alive neighbours\n",
    "        self.n_neighbours[:universe.shape[0] - 1, :] += (universe[1:, :] == 2) * 1\n",
    "        self.n_neighbours[1:, :] += (universe[:universe.shape[0] - 1, :] == 2) * 1\n",
    "        self.n_neighbours[:, :universe.shape[1] - 1] += (universe[:, 1:] == 2) * 1\n",
    "        self.n_neighbours[:, 1:] += (universe[:, :universe.shape[1] - 1] == 2) * 1\n",
    "        self.n_neighbours[:universe.shape[0] - 1, :universe.shape[1] - 1] += (universe[1:, 1:] == 2) * 1\n",
    "        self.n_neighbours[1:, 1:] += (universe[:universe.shape[0] - 1, :universe.shape[1] - 1] == 2) * 1\n",
    "        self.n_neighbours[:universe.shape[0] - 1, 1:] += (universe[1:, :universe.shape[1] - 1] == 2) * 1\n",
    "        self.n_neighbours[1:, :universe.shape[1] - 1] += (universe[:universe.shape[0] - 1, 1:] == 2) * 1\n",
    "\n",
    "        # dead cells become living if they have exactly 2 living neighbours\n",
    "        revived = (self.n_neighbours == 2) & (universe == 0)\n",
    "        universe[revived] = 2\n",
    "        # dying cells die\n",
    "        universe[universe == 1] = 0\n",
    "        # living cells become dying\n",
    "        universe[(universe == 2) & (revived == False)] = 1"
   ]
  },
  {
   "cell_type": "code",
   "execution_count": 6,
   "id": "2d4419df",
   "metadata": {},
   "outputs": [],
   "source": [
    "cllaus.reset()\n",
    "cllaus.rule(BriansBrain())\n",
    "cllaus.paste_vals(np.array([[0, 1, 0, 0],\n",
    "                            [0, 2, 2, 1],\n",
    "                            [1, 2, 2, 0],\n",
    "                            [0, 0, 1, 0]], dtype=np.int8), 30, 30)\n",
    "\n",
    "cllaus.display()"
   ]
  }
 ],
 "metadata": {
  "kernelspec": {
   "display_name": ".venv",
   "language": "python",
   "name": "python3"
  },
  "language_info": {
   "codemirror_mode": {
    "name": "ipython",
    "version": 3
   },
   "file_extension": ".py",
   "mimetype": "text/x-python",
   "name": "python",
   "nbconvert_exporter": "python",
   "pygments_lexer": "ipython3",
   "version": "3.13.3"
  }
 },
 "nbformat": 4,
 "nbformat_minor": 5
}
